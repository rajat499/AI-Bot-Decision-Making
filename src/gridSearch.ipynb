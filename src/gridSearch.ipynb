{
 "cells": [
  {
   "cell_type": "code",
   "execution_count": 1,
   "metadata": {},
   "outputs": [],
   "source": [
    "import os\n",
    "from multiprocessing import Process\n",
    "import multiprocessing"
   ]
  },
  {
   "cell_type": "code",
   "execution_count": 2,
   "metadata": {},
   "outputs": [],
   "source": [
    "def run(a, b, c, history):\n",
    "    wins = 0\n",
    "    points = 0\n",
    "    for n in range(10):\n",
    "        out = os.popen(\"python capture.py -r myTeam -q \").readlines()\n",
    "        if (out[-1][:-1]) == \"Tie game!\":\n",
    "            continue\n",
    "        else:\n",
    "            out = out[-1][:-1].split(\" \")\n",
    "            wins += (1 if out[1] == \"Red\" else -1)\n",
    "            points += int(out[-2]) if out[1] == \"Red\" else (-1*int(out[-2]))\n",
    "    print(a, b, c, wins, points)\n",
    "    if(wins>5):\n",
    "        history[(a,b,c)] = (wins, points)"
   ]
  },
  {
   "cell_type": "code",
   "execution_count": 3,
   "metadata": {},
   "outputs": [
    {
     "name": "stdout",
     "output_type": "stream",
     "text": [
      "6 5 1 9 36\n"
     ]
    }
   ],
   "source": [
    "parallel_process = 6\n",
    "manager = multiprocessing.Manager()\n",
    "history = manager.dict()\n",
    "process = []\n",
    "count = 0\n",
    "for a in range(6, 7, 1):\n",
    "    for b in range(5, 7, 2):\n",
    "        for c in range(1, 2, 100):\n",
    "            p = Process(target=run, args=(a, b, c, history))\n",
    "            p.start()\n",
    "            process.append(p)\n",
    "            count += 1\n",
    "            for p in process:\n",
    "                p.join()\n",
    "            process = []  "
   ]
  },
  {
   "cell_type": "code",
   "execution_count": null,
   "metadata": {},
   "outputs": [],
   "source": [
    "def default(str):\n",
    "    return str + ' [Default: %default]'\n",
    "\n",
    "from optparse import OptionParser\n",
    "argv = sys.argv[1:]\n",
    "usageStr = \"\"\"\n",
    "USAGE:      python pacman.py <options>\n",
    "EXAMPLES:   (1) python capture.py\n",
    "                - starts a game with two baseline agents\n",
    "            (2) python capture.py --keys0\n",
    "                - starts a two-player interactive game where the arrow keys control agent 0, and all other agents are baseline agents\n",
    "            (3) python capture.py -r baselineTeam -b myTeam\n",
    "                - starts a fully automated game where the red team is a baseline team and blue team is myTeam\n",
    "\"\"\"\n",
    "parser = OptionParser(usageStr)\n",
    "\n",
    "parser.add_option('-r', '--red', help=default('Red team'),\n",
    "                  default='baselineTeam')\n",
    "parser.add_option('--redval', help=default('Red team values'),\n",
    "                  default='0,0,0')\n",
    "parser.add_option('-b', '--blue', help=default('Blue team'), default='baselineTeam')\n",
    "parser.add_option('--red-name', help=default('Red team name'),\n",
    "                  default='Red')\n",
    "parser.add_option('--blue-name', help=default('Blue team name'),\n",
    "                  default='Blue')\n",
    "parser.add_option('--redOpts', help=default('Options for red team (e.g. first=keys)'),\n",
    "                  default='')\n",
    "parser.add_option('--blueOpts', help=default('Options for blue team (e.g. first=keys)'),\n",
    "                  default='')\n",
    "parser.add_option('--keys0', help='Make agent 0 (first red player) a keyboard agent', action='store_true',default=False)\n",
    "parser.add_option('--keys1', help='Make agent 1 (second red player) a keyboard agent', action='store_true',default=False)\n",
    "parser.add_option('--keys2', help='Make agent 2 (first blue player) a keyboard agent', action='store_true',default=False)\n",
    "parser.add_option('--keys3', help='Make agent 3 (second blue player) a keyboard agent', action='store_true',default=False)\n",
    "parser.add_option('-l', '--layout', dest='layout',\n",
    "                  help=default('the LAYOUT_FILE from which to load the map layout; use RANDOM for a random maze; use RANDOM<seed> to use a specified random seed, e.g., RANDOM23'),\n",
    "                  metavar='LAYOUT_FILE', default='defaultCapture')\n",
    "parser.add_option('-t', '--textgraphics', action='store_true', dest='textgraphics',\n",
    "                  help='Display output as text only', default=False)\n",
    "\n",
    "parser.add_option('-q', '--quiet', action='store_true',\n",
    "                  help='Display minimal output and no graphics', default=False)\n",
    "\n",
    "parser.add_option('-Q', '--super-quiet', action='store_true', dest=\"super_quiet\",\n",
    "                  help='Same as -q but agent output is also suppressed', default=False)\n",
    "\n",
    "parser.add_option('-z', '--zoom', type='float', dest='zoom',\n",
    "                  help=default('Zoom in the graphics'), default=1)\n",
    "parser.add_option('-i', '--time', type='int', dest='time',\n",
    "                  help=default('TIME limit of a game in moves'), default=1200, metavar='TIME')\n",
    "parser.add_option('-n', '--numGames', type='int',\n",
    "                  help=default('Number of games to play'), default=1)\n",
    "parser.add_option('-f', '--fixRandomSeed', action='store_true',\n",
    "                  help='Fixes the random seed to always play the same game', default=False)\n",
    "parser.add_option('--record', action='store_true',\n",
    "                  help='Writes game histories to a file (named by the time they were played)', default=False)\n",
    "parser.add_option('--replay', default=None,\n",
    "                  help='Replays a recorded game file.')\n",
    "parser.add_option('-x', '--numTraining', dest='numTraining', type='int',\n",
    "                  help=default('How many episodes are training (suppresses output)'), default=0)\n",
    "parser.add_option('-c', '--catchExceptions', action='store_true', default=False,\n",
    "                  help='Catch exceptions and enforce time limits')\n",
    "\n",
    "options, otherjunk = parser.parse_args(argv)\n",
    "\n",
    "redvalues = options.redval.split(\",\")\n",
    "redvalues = [int(v) for v in redvalues]\n",
    "print(redvalues)"
   ]
  }
 ],
 "metadata": {
  "kernelspec": {
   "display_name": "Python 3",
   "language": "python",
   "name": "python3"
  },
  "language_info": {
   "codemirror_mode": {
    "name": "ipython",
    "version": 3
   },
   "file_extension": ".py",
   "mimetype": "text/x-python",
   "name": "python",
   "nbconvert_exporter": "python",
   "pygments_lexer": "ipython3",
   "version": "3.7.6"
  }
 },
 "nbformat": 4,
 "nbformat_minor": 4
}
